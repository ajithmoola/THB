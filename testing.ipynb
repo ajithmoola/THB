{
 "cells": [
  {
   "cell_type": "code",
   "execution_count": 1,
   "metadata": {},
   "outputs": [],
   "source": [
    "import numpy as np\n",
    "# import jax.numpy as jnp\n",
    "\n",
    "from THB.multilevel_spline_space import *\n",
    "from THB.core import *\n",
    "from THB.bspline_funcs import *"
   ]
  },
  {
   "cell_type": "code",
   "execution_count": 2,
   "metadata": {},
   "outputs": [],
   "source": [
    "bs1 = BSpline(knotvector=np.array([0, 0, 0, 0.2, 0.4, 0.6, 0.8, 1, 1, 1]), degree=2)\n",
    "bs2 = BSpline(knotvector=np.array([0, 0, 0, 0.2, 0.4, 0.6, 0.8, 1, 1, 1]), degree=2)\n",
    "\n",
    "tp = TensorProduct([bs1, bs2])\n",
    "h_space = Space(tp, num_levels=3)\n",
    "h_space.build_hierarchy_from_domain_sequence()"
   ]
  },
  {
   "cell_type": "code",
   "execution_count": 3,
   "metadata": {},
   "outputs": [
    {
     "name": "stderr",
     "output_type": "stream",
     "text": [
      "100%|██████████| 10000/10000 [00:00<00:00, 931529.34it/s]\n",
      "10000it [00:00, 20367.07it/s]\n"
     ]
    }
   ],
   "source": [
    "params = generate_parametric_coordinates((100, 100))\n",
    "ctrl_pts = {lev: jnp.zeros((*(h_space.sh_fns[lev]), 2)) for lev in range(3)}\n",
    "ctrl_pts[0] = grevilleAbscissae(h_space.sh_fns[0], h_space.degrees, h_space.knotvectors[0])\n",
    "\n",
    "ac_cells_ac_supp = compute_active_cells_active_supp(h_space.cells, h_space.fns, h_space.degrees)\n",
    "fn_coeffs = compute_refinement_operators(h_space.fns, h_space.Coeff, h_space.degrees)\n",
    "params_cell_supp, num_supp = compute_active_span(params, h_space.knotvectors, h_space.cells, h_space.degrees, ac_cells_ac_supp)\n",
    "\n",
    "# phi1 = THB_basis_fns_tp_parallel(params, params_cell_supp, fn_coeffs, h_space.sh_fns, h_space.knotvectors, h_space.degrees)\n",
    "phi1, spans1, coeff1 = THB_basis_fns_tp_serial(params, params_cell_supp, fn_coeffs, h_space.sh_fns, h_space.knotvectors, h_space.degrees)\n",
    "\n",
    "fn_coeffs, ctrl_pts_, Jm = pre_process_data(params, fn_coeffs, ctrl_pts, params_cell_supp, h_space.sh_fns, h_space.knotvectors, h_space.degrees)\n",
    "repeat_ind = jnp.repeat(jnp.arange(params.shape[0]), jnp.array(num_supp))\n"
   ]
  },
  {
   "cell_type": "code",
   "execution_count": 4,
   "metadata": {},
   "outputs": [
    {
     "data": {
      "text/plain": [
       "Array([[1.0000001e-05, 1.0000001e-05],\n",
       "       [1.0009901e-02, 1.0000002e-05],\n",
       "       [2.0009803e-02, 9.9999997e-06],\n",
       "       ...,\n",
       "       [9.7000027e-01, 9.9000001e-01],\n",
       "       [9.8000014e-01, 9.9000007e-01],\n",
       "       [9.9000007e-01, 9.9000007e-01]], dtype=float32)"
      ]
     },
     "execution_count": 4,
     "metadata": {},
     "output_type": "execute_result"
    }
   ],
   "source": [
    "THB_jacobian(jnp.array(params), ctrl_pts_, jnp.array(fn_coeffs), repeat_ind, Jm, [jnp.array(kv) for kv in h_space.knotvectors[2]], h_space.degrees).block_until_ready()\n",
    "THB_evaluate(jnp.array(params), ctrl_pts_, jnp.array(fn_coeffs), repeat_ind, Jm, [jnp.array(kv) for kv in h_space.knotvectors[2]], h_space.degrees).block_until_ready()"
   ]
  },
  {
   "cell_type": "code",
   "execution_count": 5,
   "metadata": {},
   "outputs": [],
   "source": [
    "# print(repeat_ind)\n",
    "# phi2 = THB_basis_fns(jnp.array(params), jnp.array(fn_coeffs), repeat_ind, [jnp.array(kv) for kv in h_space.knotvectors[2]], h_space.degrees)\n",
    "# jac = get_THB_jacobian(jnp.array(params), jnp.array(fn_coeffs), repeat_ind, [jnp.array(kv) for kv in h_space.knotvectors[2]], h_space.degrees)\n",
    "pts = THB_evaluate(jnp.array(params), ctrl_pts_, jnp.array(fn_coeffs), repeat_ind, Jm, [jnp.array(kv) for kv in h_space.knotvectors[2]], h_space.degrees)\n",
    "jac = THB_jacobian(jnp.array(params), ctrl_pts_, jnp.array(fn_coeffs), repeat_ind, Jm, [jnp.array(kv) for kv in h_space.knotvectors[2]], h_space.degrees)"
   ]
  },
  {
   "cell_type": "code",
   "execution_count": 6,
   "metadata": {},
   "outputs": [],
   "source": [
    "jitted_jac = jit(THB_jacobian, static_argnums=6)\n"
   ]
  },
  {
   "cell_type": "code",
   "execution_count": 9,
   "metadata": {},
   "outputs": [
    {
     "data": {
      "text/plain": [
       "Array([[[ 1.0000000e+00, -7.5783775e-11],\n",
       "        [-5.8536682e-11,  1.0000000e+00]],\n",
       "\n",
       "       [[ 1.0000000e+00, -2.1548281e-08],\n",
       "        [ 8.8050470e-12,  9.9999988e-01]],\n",
       "\n",
       "       [[ 1.0000001e+00, -4.0002277e-08],\n",
       "        [ 1.8880633e-11,  1.0000001e+00]],\n",
       "\n",
       "       ...,\n",
       "\n",
       "       [[ 9.9999714e-01, -2.3841858e-06],\n",
       "        [-1.4305115e-06,  9.9999523e-01]],\n",
       "\n",
       "       [[ 9.9999714e-01, -1.4305115e-06],\n",
       "        [-9.5367432e-07,  9.9999619e-01]],\n",
       "\n",
       "       [[ 9.9999523e-01, -1.9073486e-06],\n",
       "        [-3.8146973e-06,  9.9999571e-01]]], dtype=float32)"
      ]
     },
     "execution_count": 9,
     "metadata": {},
     "output_type": "execute_result"
    }
   ],
   "source": [
    "jitted_jac(jnp.array(params), ctrl_pts_, jnp.array(fn_coeffs), repeat_ind, Jm, [jnp.array(kv) for kv in h_space.knotvectors[2]], h_space.degrees)"
   ]
  },
  {
   "cell_type": "code",
   "execution_count": 7,
   "metadata": {},
   "outputs": [],
   "source": [
    "spans = [np.array(find_span_array_jax(params[:, dim], h_space.knotvectors[2][dim], h_space.degrees[dim])) for dim in range(h_space.ndim)]\n",
    "\n",
    "fns1 = [[basisFun(spans[dim][i], params[i, dim], h_space.degrees[dim], h_space.knotvectors[2][dim]) for i in range(params.shape[0])] for dim in range(h_space.ndim)]\n",
    "\n",
    "fns1 = np.einsum('ij, ik -> ijk', fns1[0], fns1[1])"
   ]
  },
  {
   "cell_type": "code",
   "execution_count": 8,
   "metadata": {},
   "outputs": [
    {
     "ename": "ValueError",
     "evalue": "Non-hashable static arguments are not supported. An error occurred during a call to 'THB_basis_fns' while trying to hash an object of type <class 'dict'>, {0: (7, 7), 1: (12, 12), 2: (22, 22)}. The error was:\nTypeError: unhashable type: 'dict'\n",
     "output_type": "error",
     "traceback": [
      "\u001b[0;31m---------------------------------------------------------------------------\u001b[0m",
      "\u001b[0;31mValueError\u001b[0m                                Traceback (most recent call last)",
      "Cell \u001b[0;32mIn[8], line 1\u001b[0m\n\u001b[0;32m----> 1\u001b[0m phi2, fns2 \u001b[38;5;241m=\u001b[39m \u001b[43mTHB_basis_fns\u001b[49m\u001b[43m(\u001b[49m\u001b[43mparams\u001b[49m\u001b[43m,\u001b[49m\u001b[43m \u001b[49m\u001b[43mparams_cell_supp\u001b[49m\u001b[43m,\u001b[49m\u001b[43m \u001b[49m\u001b[43mnum_supp\u001b[49m\u001b[43m,\u001b[49m\u001b[43m \u001b[49m\u001b[43mfn_coeffs\u001b[49m\u001b[43m,\u001b[49m\u001b[43m \u001b[49m\u001b[43mh_space\u001b[49m\u001b[38;5;241;43m.\u001b[39;49m\u001b[43msh_fns\u001b[49m\u001b[43m,\u001b[49m\u001b[43m \u001b[49m\u001b[43mh_space\u001b[49m\u001b[38;5;241;43m.\u001b[39;49m\u001b[43mknotvectors\u001b[49m\u001b[43m,\u001b[49m\u001b[43m \u001b[49m\u001b[43mh_space\u001b[49m\u001b[38;5;241;43m.\u001b[39;49m\u001b[43mdegrees\u001b[49m\u001b[43m,\u001b[49m\u001b[43m \u001b[49m\u001b[43mctrl_pts\u001b[49m\u001b[43m)\u001b[49m\n\u001b[1;32m      2\u001b[0m \u001b[38;5;66;03m# THB_evaluate_vmap(params, num_supp, fn_coeffs, ctrl_pts, Jm, h_space.knotvectors, h_space.degrees)\u001b[39;00m\n\u001b[1;32m      3\u001b[0m fns2 \u001b[38;5;241m=\u001b[39m np\u001b[38;5;241m.\u001b[39marray(fns2)\n",
      "\u001b[0;31mValueError\u001b[0m: Non-hashable static arguments are not supported. An error occurred during a call to 'THB_basis_fns' while trying to hash an object of type <class 'dict'>, {0: (7, 7), 1: (12, 12), 2: (22, 22)}. The error was:\nTypeError: unhashable type: 'dict'\n"
     ]
    }
   ],
   "source": [
    "phi2, fns2 = THB_basis_fns(params, params_cell_supp, num_supp, fn_coeffs, h_space.sh_fns, h_space.knotvectors, h_space.degrees, ctrl_pts)\n",
    "# THB_evaluate_vmap(params, num_supp, fn_coeffs, ctrl_pts, Jm, h_space.knotvectors, h_space.degrees)\n",
    "fns2 = np.array(fns2)"
   ]
  },
  {
   "cell_type": "code",
   "execution_count": null,
   "metadata": {},
   "outputs": [],
   "source": [
    "fns2.shape"
   ]
  },
  {
   "cell_type": "code",
   "execution_count": null,
   "metadata": {},
   "outputs": [],
   "source": [
    "phi2_sums = np.array([np.sum(sub_array) for sub_array in np.split(phi2, 10000)])\n",
    "phi1_sums = np.array([np.sum(sub_array) for sub_array in np.split(phi1, 10000)])"
   ]
  },
  {
   "cell_type": "code",
   "execution_count": null,
   "metadata": {},
   "outputs": [],
   "source": []
  },
  {
   "cell_type": "code",
   "execution_count": null,
   "metadata": {},
   "outputs": [],
   "source": []
  },
  {
   "cell_type": "code",
   "execution_count": null,
   "metadata": {},
   "outputs": [],
   "source": []
  }
 ],
 "metadata": {
  "kernelspec": {
   "display_name": "THB",
   "language": "python",
   "name": "python3"
  },
  "language_info": {
   "codemirror_mode": {
    "name": "ipython",
    "version": 3
   },
   "file_extension": ".py",
   "mimetype": "text/x-python",
   "name": "python",
   "nbconvert_exporter": "python",
   "pygments_lexer": "ipython3",
   "version": "3.10.13"
  }
 },
 "nbformat": 4,
 "nbformat_minor": 2
}
