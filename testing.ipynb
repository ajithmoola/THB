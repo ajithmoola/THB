{
 "cells": [
  {
   "cell_type": "code",
   "execution_count": 1,
   "metadata": {},
   "outputs": [],
   "source": [
    "import numpy as np\n",
    "import jax.numpy as jnp\n",
    "from jax import grad, jit, jacfwd, vmap\n",
    "\n",
    "from THB.bspline_funcs import *\n",
    "from THB.core import *\n",
    "from THB.jax_funcs import *\n",
    "from THB.multilevel_spline_space import *"
   ]
  },
  {
   "cell_type": "code",
   "execution_count": 2,
   "metadata": {},
   "outputs": [
    {
     "name": "stderr",
     "output_type": "stream",
     "text": [
      "100%|██████████| 15625/15625 [00:00<00:00, 811209.59it/s]\n"
     ]
    }
   ],
   "source": [
    "bs1 = BSpline(knotvector=np.array([0, 0, 0, 0.2, 0.4, 0.6, 0.8, 1, 1, 1]), degree=2)\n",
    "bs2 = BSpline(knotvector=np.array([0, 0, 0, 0.2, 0.4, 0.6, 0.8, 1, 1, 1]), degree=2)\n",
    "bs3 = BSpline(knotvector=np.array([0, 0, 0, 0.2, 0.4, 0.6, 0.8, 1, 1, 1]), degree=2)\n",
    "\n",
    "tp = TensorProduct([bs1, bs2, bs3])\n",
    "num_levels = 3\n",
    "\n",
    "h_space = Space(tp, num_levels=num_levels)\n",
    "h_space.build_hierarchy_from_domain_sequence()\n",
    "\n",
    "ac_cells = compute_active_cells_active_supp(h_space.cells, h_space.fns, h_space.degrees)\n",
    "fn_coeffs = compute_refinement_operators(h_space.fns, h_space.Coeff, h_space.degrees)\n",
    "\n",
    "params = generate_parametric_coordinates((25, 25, 25))\n",
    "    \n",
    "ac_cell_supp, num_supp = compute_active_span(params, h_space.knotvectors, h_space.cells, h_space.degrees, ac_cells)\n",
    "\n",
    "# PHI = THB_basis_fns_tp_parallel(params, ac_cell_supp, fn_coeffs, h_space.sh_fns, h_space.knotvectors, h_space.degrees)\n"
   ]
  },
  {
   "cell_type": "code",
   "execution_count": 3,
   "metadata": {},
   "outputs": [
    {
     "name": "stdout",
     "output_type": "stream",
     "text": [
      "1\n",
      "2\n",
      "3\n",
      "4\n",
      "5\n",
      "(421875, 3, 3, 3) (12719, 22, 22, 22) (421875, 22, 22, 22)\n",
      "6\n"
     ]
    }
   ],
   "source": [
    "new_PHI = THB_basis_fns(jnp.array(params), ac_cell_supp, num_supp, fn_coeffs, h_space.sh_fns, h_space.knotvectors, h_space.degrees)"
   ]
  },
  {
   "cell_type": "code",
   "execution_count": 4,
   "metadata": {},
   "outputs": [],
   "source": [
    "old_PHI = THB_basis_fns_tp_parallel(params, ac_cell_supp, fn_coeffs, h_space.sh_fns, h_space.knotvectors, h_space.degrees)"
   ]
  },
  {
   "cell_type": "code",
   "execution_count": 5,
   "metadata": {},
   "outputs": [
    {
     "data": {
      "text/plain": [
       "Array(1.0000315, dtype=float32)"
      ]
     },
     "execution_count": 5,
     "metadata": {},
     "output_type": "execute_result"
    }
   ],
   "source": [
    "jnp.sum(new_PHI[0:27])"
   ]
  },
  {
   "cell_type": "code",
   "execution_count": 6,
   "metadata": {},
   "outputs": [
    {
     "data": {
      "text/plain": [
       "Array(1.0000002, dtype=float32)"
      ]
     },
     "execution_count": 6,
     "metadata": {},
     "output_type": "execute_result"
    }
   ],
   "source": [
    "old_flat = old_PHI.reshape(-1, 1)\n",
    "jnp.sum(old_flat[0:27])"
   ]
  },
  {
   "cell_type": "code",
   "execution_count": 7,
   "metadata": {},
   "outputs": [
    {
     "data": {
      "text/plain": [
       "Array([9.9970025e-01, 9.9976256e-05, 2.4995004e-05, ..., 8.1919273e-03,\n",
       "       1.3926423e-01, 2.6214761e-01], dtype=float32)"
      ]
     },
     "execution_count": 7,
     "metadata": {},
     "output_type": "execute_result"
    }
   ],
   "source": [
    "new_PHI"
   ]
  },
  {
   "cell_type": "code",
   "execution_count": 8,
   "metadata": {},
   "outputs": [
    {
     "data": {
      "text/plain": [
       "Array([[9.9970025e-01],\n",
       "       [9.9976256e-05],\n",
       "       [1.2497502e-09],\n",
       "       ...,\n",
       "       [8.1919273e-03],\n",
       "       [1.3926423e-01],\n",
       "       [2.6214761e-01]], dtype=float32)"
      ]
     },
     "execution_count": 8,
     "metadata": {},
     "output_type": "execute_result"
    }
   ],
   "source": [
    "old_flat"
   ]
  },
  {
   "cell_type": "code",
   "execution_count": null,
   "metadata": {},
   "outputs": [],
   "source": []
  }
 ],
 "metadata": {
  "kernelspec": {
   "display_name": "THB",
   "language": "python",
   "name": "python3"
  },
  "language_info": {
   "codemirror_mode": {
    "name": "ipython",
    "version": 3
   },
   "file_extension": ".py",
   "mimetype": "text/x-python",
   "name": "python",
   "nbconvert_exporter": "python",
   "pygments_lexer": "ipython3",
   "version": "3.10.13"
  }
 },
 "nbformat": 4,
 "nbformat_minor": 2
}
